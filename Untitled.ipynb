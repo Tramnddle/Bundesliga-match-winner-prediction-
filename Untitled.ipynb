{
 "cells": [
  {
   "cell_type": "code",
   "execution_count": 1,
   "id": "ea2af5e8-abaa-4e8c-8cb0-0c88a3019b0b",
   "metadata": {},
   "outputs": [
    {
     "ename": "NameError",
     "evalue": "name 'functions_framework' is not defined",
     "output_type": "error",
     "traceback": [
      "\u001b[1;31m---------------------------------------------------------------------------\u001b[0m",
      "\u001b[1;31mNameError\u001b[0m                                 Traceback (most recent call last)",
      "Cell \u001b[1;32mIn[1], line 1\u001b[0m\n\u001b[1;32m----> 1\u001b[0m \u001b[38;5;129m@functions_framework\u001b[39m\u001b[38;5;241m.\u001b[39mhttp\n\u001b[0;32m      2\u001b[0m \u001b[38;5;28;01mdef\u001b[39;00m \u001b[38;5;21mhello_error_1\u001b[39m(request):\n\u001b[0;32m      3\u001b[0m     \u001b[38;5;66;03m# This WILL be reported to Error Reporting,\u001b[39;00m\n\u001b[0;32m      4\u001b[0m     \u001b[38;5;66;03m# and WILL NOT show up in logs or\u001b[39;00m\n\u001b[0;32m      5\u001b[0m     \u001b[38;5;66;03m# terminate the function.\u001b[39;00m\n\u001b[0;32m      6\u001b[0m     \u001b[38;5;28;01mfrom\u001b[39;00m \u001b[38;5;21;01mgoogle\u001b[39;00m\u001b[38;5;21;01m.\u001b[39;00m\u001b[38;5;21;01mcloud\u001b[39;00m \u001b[38;5;28;01mimport\u001b[39;00m error_reporting\n\u001b[0;32m      8\u001b[0m     client \u001b[38;5;241m=\u001b[39m error_reporting\u001b[38;5;241m.\u001b[39mClient()\n",
      "\u001b[1;31mNameError\u001b[0m: name 'functions_framework' is not defined"
     ]
    }
   ],
   "source": [
    "@functions_framework.http\n",
    "def hello_error_1(request):\n",
    "    # This WILL be reported to Error Reporting,\n",
    "    # and WILL NOT show up in logs or\n",
    "    # terminate the function.\n",
    "    from google.cloud import error_reporting\n",
    "\n",
    "    client = error_reporting.Client()\n",
    "\n",
    "    try:\n",
    "        raise RuntimeError(\"I failed you\")\n",
    "    except RuntimeError:\n",
    "        client.report_exception()\n",
    "\n",
    "    # This WILL be reported to Error Reporting,\n",
    "    # and WILL terminate the function\n",
    "    raise RuntimeError(\"I failed you\")\n",
    "\n",
    "\n",
    "@functions_framework.http\n",
    "def hello_error_2(request):\n",
    "    # These errors WILL NOT be reported to Error\n",
    "    # Reporting, but will show up in logs.\n",
    "    import logging\n",
    "    import sys\n",
    "\n",
    "    print(RuntimeError(\"I failed you (print to stdout)\"))\n",
    "    logging.warning(RuntimeError(\"I failed you (logging.warning)\"))\n",
    "    logging.error(RuntimeError(\"I failed you (logging.error)\"))\n",
    "    sys.stderr.write(\"I failed you (sys.stderr.write)\\n\")\n",
    "\n",
    "    # This is considered a successful execution and WILL NOT be reported\n",
    "    # to Error Reporting, but the status code (500) WILL be logged.\n",
    "    from flask import abort\n",
    "\n",
    "    return abort(500)\n"
   ]
  },
  {
   "cell_type": "code",
   "execution_count": null,
   "id": "66bd8e7a-eac7-4da4-99b2-ac0e80204424",
   "metadata": {},
   "outputs": [],
   "source": []
  }
 ],
 "metadata": {
  "kernelspec": {
   "display_name": "Python 3 (ipykernel)",
   "language": "python",
   "name": "python3"
  },
  "language_info": {
   "codemirror_mode": {
    "name": "ipython",
    "version": 3
   },
   "file_extension": ".py",
   "mimetype": "text/x-python",
   "name": "python",
   "nbconvert_exporter": "python",
   "pygments_lexer": "ipython3",
   "version": "3.11.5"
  }
 },
 "nbformat": 4,
 "nbformat_minor": 5
}
